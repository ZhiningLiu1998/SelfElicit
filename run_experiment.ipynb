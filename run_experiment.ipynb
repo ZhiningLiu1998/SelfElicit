{
 "cells": [
  {
   "cell_type": "markdown",
   "metadata": {},
   "source": [
    "# Example Notebook\n",
    "\n",
    "This example Jupyter Notebook is designed to facilitate the process of loading data, setting up models, and running experiments for context-based question answering with `SelfElicit` and other baseline methods.\n",
    "It also showcases how to use the utility functions provided in this repository to run experiments across different datasets and models.\n",
    "\n",
    "You can change settings by modifying the `config.yaml` file.\n",
    "\n",
    "## Main Modules Used in this Example\n",
    "\n",
    "1. **args**:\n",
    "    - **get_args**: Function to retrieve and set up arguments for the notebook.\n",
    "  \n",
    "2. **dataloader**:\n",
    "    - **load_data**: Function to load datasets for the experiments.\n",
    "\n",
    "3. **utils**:\n",
    "    - **get_model_tokenizer_device**: Function to load the model, tokenizer, and device (e.g., GPU or CPU) for running the experiments.\n",
    "\n",
    "4. **qa_agent**:\n",
    "    - **get_agents_dict**: Function to prepare QA agent instances with different instructions.\n",
    "    - **ContextQuestionAnsweringAgent**: Class for handling context-based question answering tasks.\n",
    "\n",
    "5. **eval**:\n",
    "    - **evaluate**: Function to evaluate the model's answers against the true answers using metrics like F1 score and Exact Match (EM).\n",
    "\n",
    "6. **self_elicit**:\n",
    "    - **get_answer_base**: Function to get the base answer from the model.\n",
    "    - **get_answer_cot**: Function to get the answer using Chain-of-Thought (COT) reasoning.\n",
    "    - **get_answer_fullelicit**: Function to get the answer using full elicitation.\n",
    "    - **get_answer_promptelicit**: Function to get the answer using prompt elicitation.\n",
    "    - **get_answer_selfelicit**: Function to get the answer using self-elicit method.\n",
    "\n",
    "## Arguments (modifiable in `config.yaml`)\n",
    "\n",
    "| Argument            | Description                                                                          | Default (Valid Options)                                                                                                                                                                                                                                                                                                                                                  |\n",
    "| ------------------- | ------------------------------------------------------------------------------------ | ------------------------------------------------------------------------------------------------------------------------------------------------------------------------------------------------------------------------------------------------------------------------------------------------------------------------------------------------------------------------ |\n",
    "| `--hf_token`        | Hugging Face API token.                                                              | `\"your_hf_api_token\"` (Replace with your own token)                                                                                                                                                                                                                                                                                                                      |\n",
    "| `--model_id`        | The HuggingFace Model ID. Should be one of the specified models.                     | `\"meta-llama/Meta-Llama-3.1-8B-Instruct\"` (`\"meta-llama/Meta-Llama-3.1-70B-Instruct\"`, `\"mistralai/Mistral-7B-Instruct-v0.3\"`, `\"mistralai/Mistral-Nemo-Instruct-2407\"`, `\"Qwen/Qwen2.5-7B-Instruct\"`, `\"Qwen/Qwen2.5-32B-Instruct\"`)                                                                                                                                    |\n",
    "| `--methods`         | Method(s) to test. Can be a list or a single value.                                  | `[\"Base\", \"COT\", \"FullElicit\", \"PromptElicit\", \"SelfElicit\"]`                                                                                                                                                                                                                                                                                                            |\n",
    "| `--datasets`        | Dataset(s) to use. Can be a list or a single value.                                  | `[\"HotpotQA\", \"NewsQA\", \"TQA\", \"NQ\"]`                                                                                                                                                                                                                                                                                                                                    |\n",
    "| `--alpha`           | Threshold for the SelfElicit method.                                                 | 0.5                                                                                                                                                                                                                                                                                                                                                                      |\n",
    "| `--layer_span`      | A tuple representing the layer span for the SelfElicit method.                       | `(0.5, 1.0)` (Must be a tuple of two floats between [0, 1])                                                                                                                                                                                                                                                                                                              |\n",
    "| `--gpu_ids`         | List of GPU IDs to use for computation.                                              | `[0]` (Auto-detected if not specified)                                                                                                                                                                                                                                                                                                                                   |\n",
    "| `--n_samples`       | Number of samples in each dataset.                                                   | 1000 (Set to `None` to use the full data)                                                                                                                                                                                                                                                                                                                                |\n",
    "| `--random_state`    | The random state for reproducibility.                                                | 0                                                                                                                                                                                                                                                                                                                                                                        |\n",
    "| `--max_ans_tokens`  | Maximum length of the answer in tokens.                                              | 100                                                                                                                                                                                                                                                                                                                                                                      |\n",
    "| `--marker_impstart` | Marker indicating the start of important information in the context.                 | `\"<START_IMPORTANT>\"`                                                                                                                                                                                                                                                                                                                                                    |\n",
    "| `--marker_impend`   | Marker indicating the end of important information in the context.                   | `\"<END_IMPORTANT>\"`                                                                                                                                                                                                                                                                                                                                                      |\n",
    "| `--qa_inst`         | Instruction for context-based QA.                                                    | \"Directly answer the question based on the context passage, no explanation is needed. If the context does not contain any evidence, output 'I cannot answer based on the given context.'\"                                                                                                                                                                                |\n",
    "| `--se_inst`         | Instruction for context-based QA with SelfElicit highlighting. Must contain markers. | \"Directly answer the question based on the context passage, no explanation is needed. Within the context, {MARKER_IMPSTART} and {MARKER_IMPEND} are used to mark the important evidence. Read carefully but still keep your answer short, do not output the markers. If the context does not contain any evidence, output 'I cannot answer based on the given context.'\" |\n",
    "| `--cot_inst`        | Instruction for context-based QA with Chain-of-Thought (COT) prompting.              | \"Directly answer the question based on the context passage, no explanation is needed. If the context does not contain any evidence, output 'I cannot answer based on the given context.' Think step by step to provide the answer.\"                                                                                                                                      |\n",
    "| `--pe_inst`         | Instruction for extracting evidence from the context (1st step of PromptElicit).     | \"Please find the supporting evidence sentences from the context for the question, then copy-paste the original text to output without any additional words. Template for output: '\\n- [sentence1]\\n- [sentence2] ...'\"                                                                                                                                                   |"
   ]
  },
  {
   "cell_type": "code",
   "execution_count": 1,
   "metadata": {},
   "outputs": [
    {
     "name": "stdout",
     "output_type": "stream",
     "text": [
      "Loading default configuration from 'config.yaml' ...\n",
      "Parsing arguments from command line is disabled as using_notebook=True.\n",
      "Using GPUs: 0\n",
      "Arguments loaded successfully!\n",
      "Arguments:\n",
      "\thf_token  : *************************************\n",
      "\tmodel_id  : meta-llama/Meta-Llama-3.1-8B-Instruct\n",
      "\tmethods   : ['Base', 'COT', 'FullElicit', 'PromptElicit', 'SelfElicit']\n",
      "\tdatasets  : ['HotpotQA', 'NewsQA', 'TQA', 'NQ']\n",
      "\talpha     : 0.5\n",
      "\tlayer_span: (0.5, 1.0)\n",
      "\tgpu_ids   : [0]\n",
      "\tn_samples : 1000\n",
      "\trandom_state: 0\n",
      "\tmax_ans_tokens: 100\n",
      "\tmarker_impstart: <START_IMPORTANT>\n",
      "\tmarker_impend: <END_IMPORTANT>\n",
      "\tqa_inst   : Directly answer the question based on the context passage, no explanation is needed. If the context does not contain any evidence, output 'I cannot answer based on the given context.'\n",
      "\tse_inst   : Directly answer the question based on the context passage, no explanation is needed. Within the context, <START_IMPORTANT> and <END_IMPORTANT> are used to mark the important evidence. Read carefully but still keep your answer short, do not output the markers. If the context does not contain any evidence, output 'I cannot answer based on the given context.'\n",
      "\tcot_inst  : Directly answer the question based on the context passage, no explanation is needed. If the context does not contain any evidence, output 'I cannot answer based on the given context.' Think step by step to provide the answer.\n",
      "\tpe_inst   : Please find the supporting evidence sentences from the context for the question, then copy-paste the original text to output without any additional words. Template for output: '\n",
      "- [sentence1]\n",
      "- [sentence2] ...'\n"
     ]
    }
   ],
   "source": [
    "\"\"\"\n",
    "1. Get the arguments and set up the GPUs (done in the `get_args` function)\n",
    "\"\"\"\n",
    "\n",
    "from args import get_args\n",
    "\n",
    "args = get_args(using_notebook=True)\n",
    "\n",
    "args.n_samples = 200  # setting this for quick testing on a small subset"
   ]
  },
  {
   "cell_type": "code",
   "execution_count": 2,
   "metadata": {},
   "outputs": [
    {
     "name": "stdout",
     "output_type": "stream",
     "text": [
      "CUDA is available with devices:\n",
      "\t- Device 0: NVIDIA A100-SXM4-80GB\n",
      "Logging in to Hugging Face ...\n",
      "The token has not been saved to the git credentials helper. Pass `add_to_git_credential=True` in this function directly or `--add-to-git-credential` if using via `huggingface-cli` if you want to set the git credential as well.\n",
      "Token is valid (permission: write).\n",
      "Your token has been saved to /home/liu326/.cache/huggingface/token\n",
      "Login successful\n",
      "Loading model and tokenizer ... "
     ]
    },
    {
     "data": {
      "application/vnd.jupyter.widget-view+json": {
       "model_id": "9fa2ec74119140f8a8f928f045b94336",
       "version_major": 2,
       "version_minor": 0
      },
      "text/plain": [
       "Loading checkpoint shards:   0%|          | 0/4 [00:00<?, ?it/s]"
      ]
     },
     "metadata": {},
     "output_type": "display_data"
    },
    {
     "name": "stdout",
     "output_type": "stream",
     "text": [
      "Success!\n"
     ]
    },
    {
     "data": {
      "text/plain": [
       "{'qa': <qa_agent.ContextQuestionAnsweringAgent at 0x7f2d51deb610>,\n",
       " 'se': <qa_agent.ContextQuestionAnsweringAgent at 0x7f2c70441b20>,\n",
       " 'cot': <qa_agent.ContextQuestionAnsweringAgent at 0x7f2c5d6e6460>,\n",
       " 'pe': <qa_agent.ContextQuestionAnsweringAgent at 0x7f2c5d6f1790>}"
      ]
     },
     "execution_count": 2,
     "metadata": {},
     "output_type": "execute_result"
    }
   ],
   "source": [
    "\"\"\"\n",
    "2. Prepare the model and tokenizer, set up the QA agents\n",
    "\"\"\"\n",
    "\n",
    "from utils import get_model_tokenizer_device\n",
    "from qa_agent import get_agents_dict, ContextQuestionAnsweringAgent\n",
    "\n",
    "# Load model, tokenizer, and devices\n",
    "model, tokenizer, device = get_model_tokenizer_device(args.hf_token, args.model_id)\n",
    "# Prepare QA agent instances (with different instructions)\n",
    "agents_dict = get_agents_dict(model, tokenizer, device, args)\n",
    "agents_dict"
   ]
  },
  {
   "cell_type": "markdown",
   "metadata": {},
   "source": [
    "## Run Experiment\n",
    "The following `run_experiment` function orchestrates the entire experiment process, including loading datasets, running different methods to get answers, and evaluating the results. The results are compiled into a pandas DataFrame for further analysis."
   ]
  },
  {
   "cell_type": "code",
   "execution_count": 3,
   "metadata": {},
   "outputs": [
    {
     "name": "stdout",
     "output_type": "stream",
     "text": [
      "Loading the HotpotQA dataset ... Success!\n",
      "Loading the NewsQA dataset ... Success!\n",
      "Loading the TriviaQA-web dataset ... Success!\n",
      "Loading the NaturalQuestionsShort dataset ... Success!\n"
     ]
    },
    {
     "name": "stderr",
     "output_type": "stream",
     "text": [
      "DATA - HotpotQA  :   0%|          | 0/200 [00:00<?, ?it/s]LlamaModel is using LlamaSdpaAttention, but `torch.nn.functional.scaled_dot_product_attention` does not support `output_attentions=True`. Falling back to the manual attention implementation, but specifying the manual implementation will be required from Transformers version v5.0.0 onwards. This warning can be removed using the argument `attn_implementation=\"eager\"` when loading the model.\n",
      "We detected that you are passing `past_key_values` as a tuple and this is deprecated and will be removed in v4.43. Please use an appropriate `Cache` class (https://huggingface.co/docs/transformers/v4.41.3/en/internal/generation_utils#transformers.Cache)\n",
      "DATA - HotpotQA  : 100%|██████████| 200/200 [07:24<00:00,  2.22s/it, f1={'Base': 60.34, 'COT': 60.55, 'FullElicit': 60.7, 'PromptElicit': 65.29, 'SelfElicit': 67.87}, em={'Base': 61.5, 'COT': 62.5, 'FullElicit': 61.0, 'PromptElicit': 66.5, 'SelfElicit': 67.84}]     \n",
      "DATA - NewsQA    : 100%|██████████| 200/200 [10:41<00:00,  3.21s/it, f1={'Base': 56.77, 'COT': 56.41, 'FullElicit': 57.74, 'PromptElicit': 58.01, 'SelfElicit': 61.06}, em={'Base': 67.0, 'COT': 66.5, 'FullElicit': 68.0, 'PromptElicit': 64.0, 'SelfElicit': 69.0}]     \n",
      "DATA - TQA       : 100%|██████████| 200/200 [11:22<00:00,  3.41s/it, f1={'Base': 65.22, 'COT': 66.77, 'FullElicit': 65.32, 'PromptElicit': 70.2, 'SelfElicit': 70.11}, em={'Base': 70.0, 'COT': 72.0, 'FullElicit': 71.0, 'PromptElicit': 75.0, 'SelfElicit': 75.0}]      \n",
      "DATA - NQ        : 100%|██████████| 200/200 [07:59<00:00,  2.40s/it, f1={'Base': 59.2, 'COT': 59.64, 'FullElicit': 59.64, 'PromptElicit': 65.47, 'SelfElicit': 66.03}, em={'Base': 59.0, 'COT': 59.5, 'FullElicit': 59.5, 'PromptElicit': 59.5, 'SelfElicit': 63.0}]      \n"
     ]
    }
   ],
   "source": [
    "\"\"\"\n",
    "3. Run the experiment\n",
    "\"\"\"\n",
    "\n",
    "import tqdm\n",
    "import numpy as np\n",
    "import pandas as pd\n",
    "from eval import evaluate\n",
    "from dataloader import load_data\n",
    "from self_elicit import (\n",
    "    get_answer_base,\n",
    "    get_answer_cot,\n",
    "    get_answer_fullelicit,\n",
    "    get_answer_promptelicit,\n",
    "    get_answer_selfelicit,\n",
    ")\n",
    "import warnings\n",
    "\n",
    "warnings.filterwarnings(\"ignore\")\n",
    "\n",
    "\n",
    "def run_experiment(device, agents_dict, args):\n",
    "\n",
    "    methods = args.methods\n",
    "    datasets_dict = {\n",
    "        dataset: load_data(dataset, args.n_samples, args.random_state, True)\n",
    "        for dataset in args.datasets\n",
    "    }\n",
    "    qa_res_eval_cols = [\n",
    "        \"em\",\n",
    "        \"f1\",\n",
    "        \"pr\",\n",
    "        \"re\",\n",
    "    ]\n",
    "    qa_res_columns = [\n",
    "        \"dataset\",\n",
    "        \"idx\",\n",
    "        \"true_ans\",\n",
    "        \"model_ans\",\n",
    "        \"method\",\n",
    "    ] + qa_res_eval_cols\n",
    "\n",
    "    qa_results = []\n",
    "\n",
    "    for dataset_name, dataset in datasets_dict.items():\n",
    "\n",
    "        dataset_runstat = {\n",
    "            \"f1\": {method: [] for method in methods},\n",
    "            \"em\": {method: [] for method in methods},\n",
    "        }\n",
    "\n",
    "        iterator = tqdm.tqdm(range(len(dataset)), desc=f\"DATA - {dataset_name:<10s}\")\n",
    "        for idx in iterator:\n",
    "            context, question, true_ans_list = dataset.get_context_question_answer(idx)\n",
    "\n",
    "            for method in methods:\n",
    "                try:\n",
    "                    if method == \"Base\":\n",
    "                        model_ans = get_answer_base(\n",
    "                            context, question, agents_dict, args\n",
    "                        )\n",
    "                    elif method == \"COT\":\n",
    "                        model_ans = get_answer_cot(context, question, agents_dict, args)\n",
    "                    elif method == \"FullElicit\":\n",
    "                        model_ans = get_answer_fullelicit(\n",
    "                            context, question, agents_dict, args\n",
    "                        )\n",
    "                    elif method == \"PromptElicit\":\n",
    "                        model_ans = get_answer_promptelicit(\n",
    "                            context, question, agents_dict, args\n",
    "                        )\n",
    "                    elif method == \"SelfElicit\":\n",
    "                        model_ans, evidence_sents = get_answer_selfelicit(\n",
    "                            context,\n",
    "                            question,\n",
    "                            agents_dict,\n",
    "                            device,\n",
    "                            args,\n",
    "                            return_evidence=True,\n",
    "                        )\n",
    "                except:\n",
    "                    continue\n",
    "\n",
    "                true_ans_used, scores = evaluate(\n",
    "                    true_ans_list, model_ans, sel_metric=\"f1\"\n",
    "                )\n",
    "\n",
    "                qa_results.append(\n",
    "                    [\n",
    "                        dataset_name,\n",
    "                        idx,\n",
    "                        true_ans_used,\n",
    "                        model_ans,\n",
    "                        method,\n",
    "                    ]\n",
    "                    + [scores[col] for col in qa_res_eval_cols]\n",
    "                )\n",
    "\n",
    "                dataset_runstat[\"f1\"][method].append(scores[\"f1\"] * 100)\n",
    "                dataset_runstat[\"em\"][method].append(scores[\"em\"] * 100)\n",
    "\n",
    "            iterator.set_postfix(\n",
    "                {\n",
    "                    \"f1\": {\n",
    "                        method: np.mean(dataset_runstat[\"f1\"][method]).round(2)\n",
    "                        for method in methods\n",
    "                    },\n",
    "                    \"em\": {\n",
    "                        method: np.mean(dataset_runstat[\"em\"][method]).round(2)\n",
    "                        for method in methods\n",
    "                    },\n",
    "                }\n",
    "            )\n",
    "\n",
    "    qa_results = pd.DataFrame(qa_results, columns=qa_res_columns)\n",
    "    return qa_results\n",
    "\n",
    "\n",
    "qa_results = run_experiment(device, agents_dict, args)"
   ]
  },
  {
   "cell_type": "code",
   "execution_count": 4,
   "metadata": {},
   "outputs": [
    {
     "data": {
      "image/png": "[encoded data removed]",
      "text/plain": [
       "<Figure size 1500x500 with 2 Axes>"
      ]
     },
     "metadata": {},
     "output_type": "display_data"
    }
   ],
   "source": [
    "\"\"\"\n",
    "4. Visualize the results\n",
    "\"\"\"\n",
    "\n",
    "import seaborn as sns\n",
    "import matplotlib.pyplot as plt\n",
    "\n",
    "sns.set(style=\"whitegrid\")\n",
    "\n",
    "metrics = [\"f1\", \"em\"]\n",
    "\n",
    "fig, axes = plt.subplots(1, len(metrics), figsize=(15, 5))\n",
    "\n",
    "for i, metric in enumerate(metrics):\n",
    "    ax = sns.barplot(\n",
    "        x=\"dataset\",\n",
    "        hue=\"method\",\n",
    "        y=metric,\n",
    "        data=qa_results,\n",
    "        ax=axes[i],\n",
    "        ci=False,\n",
    "    )\n",
    "    ax.legend(loc=\"lower right\")\n",
    "    ax.set_title(f\"Metric: {metric.upper()}\")\n",
    "    ax.set_ylim(0.5, ax.get_ylim()[1])\n",
    "\n",
    "plt.tight_layout()\n",
    "plt.show()"
   ]
  },
  {
   "cell_type": "markdown",
   "metadata": {},
   "source": [
    "## Save results\n",
    "\n",
    "The results are saved in a CSV file for further analysis."
   ]
  },
  {
   "cell_type": "code",
   "execution_count": 5,
   "metadata": {},
   "outputs": [
    {
     "name": "stdout",
     "output_type": "stream",
     "text": [
      "Saving results to results/exp_[MODEL]meta-llama|Meta-Llama-3.1-8B-Instruct_[METHOD]Base-COT-FullElicit-PromptElicit-SelfElicit_[DATA]HotpotQA-NewsQA-TQA-NQ.csv ...Success!\n"
     ]
    }
   ],
   "source": [
    "\"\"\"\n",
    "5. Save the results for future analysis\n",
    "\"\"\"\n",
    "\n",
    "path = f\"results/exp_[MODEL]{args.model_id.replace('/', '|')}_[METHOD]{'-'.join(args.methods)}_[DATA]{'-'.join(args.datasets)}.csv\"\n",
    "print(f\"Saving results to {path} ...\", end=\"\")\n",
    "qa_results.to_csv(path, index=False)\n",
    "print(\"Success!\")"
   ]
  }
 ],
 "metadata": {
  "kernelspec": {
   "display_name": "base",
   "language": "python",
   "name": "python3"
  },
  "language_info": {
   "codemirror_mode": {
    "name": "ipython",
    "version": 3
   },
   "file_extension": ".py",
   "mimetype": "text/x-python",
   "name": "python",
   "nbconvert_exporter": "python",
   "pygments_lexer": "ipython3",
   "version": "3.9.13"
  }
 },
 "nbformat": 4,
 "nbformat_minor": 2
}
